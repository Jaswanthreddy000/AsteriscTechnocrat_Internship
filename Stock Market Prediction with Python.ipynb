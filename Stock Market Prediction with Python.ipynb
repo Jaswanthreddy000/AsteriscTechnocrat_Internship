{
 "cells": [
  {
   "cell_type": "code",
   "execution_count": 3,
   "id": "7ec34a77",
   "metadata": {},
   "outputs": [],
   "source": [
    "import pandas as pd\n",
    "import numpy as np\n",
    "import matplotlib.pyplot as plt\n",
    "%matplotlib inline\n",
    "\n",
    "#import chart_studio.plotly as py\n",
    "#import plotly.graph_objs as go\n",
    "#from plotly.offline import plot\n",
    "\n",
    "#from plotly.offline import download_plotlyjs,init_notebook_mode,plot, iplot\n",
    "#init_notebook_mode(connected=True)"
   ]
  },
  {
   "cell_type": "code",
   "execution_count": 4,
   "id": "11f57dc7",
   "metadata": {},
   "outputs": [],
   "source": [
    "df = pd.read_csv('/Users/suryaalavala/Downloads/stockmarket.csv')"
   ]
  },
  {
   "cell_type": "code",
   "execution_count": 5,
   "id": "bdf46b93",
   "metadata": {},
   "outputs": [
    {
     "data": {
      "text/html": [
       "<div>\n",
       "<style scoped>\n",
       "    .dataframe tbody tr th:only-of-type {\n",
       "        vertical-align: middle;\n",
       "    }\n",
       "\n",
       "    .dataframe tbody tr th {\n",
       "        vertical-align: top;\n",
       "    }\n",
       "\n",
       "    .dataframe thead th {\n",
       "        text-align: right;\n",
       "    }\n",
       "</style>\n",
       "<table border=\"1\" class=\"dataframe\">\n",
       "  <thead>\n",
       "    <tr style=\"text-align: right;\">\n",
       "      <th></th>\n",
       "      <th>Date</th>\n",
       "      <th>Open</th>\n",
       "      <th>High</th>\n",
       "      <th>Low</th>\n",
       "      <th>Close</th>\n",
       "      <th>Adj Close</th>\n",
       "      <th>Volume</th>\n",
       "    </tr>\n",
       "  </thead>\n",
       "  <tbody>\n",
       "    <tr>\n",
       "      <th>0</th>\n",
       "      <td>2020-01-27</td>\n",
       "      <td>71.320000</td>\n",
       "      <td>71.635002</td>\n",
       "      <td>71.320000</td>\n",
       "      <td>71.324997</td>\n",
       "      <td>71.324997</td>\n",
       "      <td>0</td>\n",
       "    </tr>\n",
       "    <tr>\n",
       "      <th>1</th>\n",
       "      <td>2020-01-28</td>\n",
       "      <td>71.654999</td>\n",
       "      <td>71.654999</td>\n",
       "      <td>71.178001</td>\n",
       "      <td>71.440002</td>\n",
       "      <td>71.440002</td>\n",
       "      <td>0</td>\n",
       "    </tr>\n",
       "    <tr>\n",
       "      <th>2</th>\n",
       "      <td>2020-01-29</td>\n",
       "      <td>71.230103</td>\n",
       "      <td>71.425003</td>\n",
       "      <td>71.168503</td>\n",
       "      <td>71.230400</td>\n",
       "      <td>71.230400</td>\n",
       "      <td>0</td>\n",
       "    </tr>\n",
       "    <tr>\n",
       "      <th>3</th>\n",
       "      <td>2020-01-30</td>\n",
       "      <td>71.300003</td>\n",
       "      <td>71.711998</td>\n",
       "      <td>71.300003</td>\n",
       "      <td>71.300003</td>\n",
       "      <td>71.300003</td>\n",
       "      <td>0</td>\n",
       "    </tr>\n",
       "    <tr>\n",
       "      <th>4</th>\n",
       "      <td>2020-01-31</td>\n",
       "      <td>71.639999</td>\n",
       "      <td>71.639999</td>\n",
       "      <td>71.277496</td>\n",
       "      <td>71.639999</td>\n",
       "      <td>71.639999</td>\n",
       "      <td>0</td>\n",
       "    </tr>\n",
       "  </tbody>\n",
       "</table>\n",
       "</div>"
      ],
      "text/plain": [
       "         Date       Open       High        Low      Close  Adj Close  Volume\n",
       "0  2020-01-27  71.320000  71.635002  71.320000  71.324997  71.324997       0\n",
       "1  2020-01-28  71.654999  71.654999  71.178001  71.440002  71.440002       0\n",
       "2  2020-01-29  71.230103  71.425003  71.168503  71.230400  71.230400       0\n",
       "3  2020-01-30  71.300003  71.711998  71.300003  71.300003  71.300003       0\n",
       "4  2020-01-31  71.639999  71.639999  71.277496  71.639999  71.639999       0"
      ]
     },
     "execution_count": 5,
     "metadata": {},
     "output_type": "execute_result"
    }
   ],
   "source": [
    "df.head()"
   ]
  },
  {
   "cell_type": "code",
   "execution_count": 7,
   "id": "07f0e005",
   "metadata": {},
   "outputs": [
    {
     "data": {
      "text/plain": [
       "Date          object\n",
       "Open         float64\n",
       "High         float64\n",
       "Low          float64\n",
       "Close        float64\n",
       "Adj Close    float64\n",
       "Volume         int64\n",
       "dtype: object"
      ]
     },
     "execution_count": 7,
     "metadata": {},
     "output_type": "execute_result"
    }
   ],
   "source": [
    "df.dtypes"
   ]
  },
  {
   "cell_type": "code",
   "execution_count": 12,
   "id": "49816306",
   "metadata": {},
   "outputs": [],
   "source": [
    "#selecting close for predicting future stock price values \n",
    "df1 = df.reset_index()['Close']"
   ]
  },
  {
   "cell_type": "code",
   "execution_count": 13,
   "id": "c631d235",
   "metadata": {},
   "outputs": [
    {
     "data": {
      "text/plain": [
       "0      71.324997\n",
       "1      71.440002\n",
       "2      71.230400\n",
       "3      71.300003\n",
       "4      71.639999\n",
       "         ...    \n",
       "257    73.191902\n",
       "258    72.910896\n",
       "259    72.954903\n",
       "260    72.995903\n",
       "261    72.970001\n",
       "Name: Close, Length: 262, dtype: float64"
      ]
     },
     "execution_count": 13,
     "metadata": {},
     "output_type": "execute_result"
    }
   ],
   "source": [
    "df1"
   ]
  },
  {
   "cell_type": "code",
   "execution_count": 14,
   "id": "aa39148d",
   "metadata": {},
   "outputs": [
    {
     "data": {
      "text/plain": [
       "(262,)"
      ]
     },
     "execution_count": 14,
     "metadata": {},
     "output_type": "execute_result"
    }
   ],
   "source": [
    "df1.shape"
   ]
  },
  {
   "cell_type": "code",
   "execution_count": 15,
   "id": "ba25ce8f",
   "metadata": {},
   "outputs": [
    {
     "data": {
      "text/plain": [
       "[<matplotlib.lines.Line2D at 0x131a06250>]"
      ]
     },
     "execution_count": 15,
     "metadata": {},
     "output_type": "execute_result"
    },
    {
     "data": {
      "image/png": "[encoded data removed]",
      "text/plain": [
       "<Figure size 640x480 with 1 Axes>"
      ]
     },
     "metadata": {},
     "output_type": "display_data"
    }
   ],
   "source": [
    "plt.plot(df1)"
   ]
  },
  {
   "cell_type": "code",
   "execution_count": null,
   "id": "308bd059",
   "metadata": {},
   "outputs": [],
   "source": [
    "#applying minmaxscaler"
   ]
  },
  {
   "cell_type": "code",
   "execution_count": 16,
   "id": "3dcd1e29",
   "metadata": {},
   "outputs": [],
   "source": [
    "from sklearn.preprocessing import MinMaxScaler"
   ]
  },
  {
   "cell_type": "code",
   "execution_count": 17,
   "id": "17aae775",
   "metadata": {},
   "outputs": [],
   "source": [
    "scaler = MinMaxScaler(feature_range=(0,1))"
   ]
  },
  {
   "cell_type": "code",
   "execution_count": 18,
   "id": "d6a4bf64",
   "metadata": {},
   "outputs": [],
   "source": [
    "df1 = scaler.fit_transform(np.array(df1).reshape(-1,1))"
   ]
  },
  {
   "cell_type": "code",
   "execution_count": 19,
   "id": "f5ea8f5d",
   "metadata": {},
   "outputs": [
    {
     "data": {
      "text/plain": [
       "array([[0.03477572],\n",
       "       [0.05255083],\n",
       "       [0.02015486],\n",
       "       [0.03091266],\n",
       "       [0.08346226],\n",
       "       [0.06128282],\n",
       "       [0.0330918 ],\n",
       "       [0.        ],\n",
       "       [0.01236507],\n",
       "       [0.05718746],\n",
       "       [0.06422023],\n",
       "       [0.02782086],\n",
       "       [0.02709443],\n",
       "       [0.03032549],\n",
       "       [0.02604373],\n",
       "       [0.06411173],\n",
       "       [0.03851606],\n",
       "       [0.07341559],\n",
       "       [0.11244216],\n",
       "       [0.15610552],\n",
       "       [0.12160815],\n",
       "       [0.14632175],\n",
       "       [0.11901156],\n",
       "       [0.08707895],\n",
       "       [0.12828466],\n",
       "       [0.16228805],\n",
       "       [0.26661491],\n",
       "       [0.34652308],\n",
       "       [0.45479198],\n",
       "       [0.42582753],\n",
       "       [0.44749631],\n",
       "       [0.51097357],\n",
       "       [0.47990773],\n",
       "       [0.56568823],\n",
       "       [0.64915049],\n",
       "       [0.43338487],\n",
       "       [0.62673876],\n",
       "       [0.45013896],\n",
       "       [0.60000043],\n",
       "       [0.62746503],\n",
       "       [0.69893379],\n",
       "       [0.83554827],\n",
       "       [0.95208688],\n",
       "       [0.73346175],\n",
       "       [0.56037123],\n",
       "       [0.67465172],\n",
       "       [0.66460629],\n",
       "       [0.65301355],\n",
       "       [1.        ],\n",
       "       [0.93353928],\n",
       "       [0.79289079],\n",
       "       [0.75191615],\n",
       "       [0.85935151],\n",
       "       [0.75100471],\n",
       "       [0.85780561],\n",
       "       [0.78307518],\n",
       "       [0.89799138],\n",
       "       [0.74667705],\n",
       "       [0.9447453 ],\n",
       "       [1.        ],\n",
       "       [0.84389464],\n",
       "       [0.94435844],\n",
       "       [0.90717128],\n",
       "       [0.81916574],\n",
       "       [0.82264318],\n",
       "       [0.79930454],\n",
       "       [0.78613639],\n",
       "       [0.82921118],\n",
       "       [0.64273566],\n",
       "       [0.71406516],\n",
       "       [0.69559546],\n",
       "       [0.73415742],\n",
       "       [0.78361645],\n",
       "       [0.78072634],\n",
       "       [0.76970672],\n",
       "       [0.68392622],\n",
       "       [0.80525477],\n",
       "       [0.70788263],\n",
       "       [0.66865559],\n",
       "       [0.67774369],\n",
       "       [0.72952095],\n",
       "       [0.69553302],\n",
       "       [0.75734165],\n",
       "       [0.72333842],\n",
       "       [0.69938185],\n",
       "       [0.75502341],\n",
       "       [0.77434335],\n",
       "       [0.72952095],\n",
       "       [0.77743392],\n",
       "       [0.75115912],\n",
       "       [0.68210195],\n",
       "       [0.71561106],\n",
       "       [0.61295282],\n",
       "       [0.68701679],\n",
       "       [0.67865512],\n",
       "       [0.68279763],\n",
       "       [0.69938185],\n",
       "       [0.68157722],\n",
       "       [0.73802172],\n",
       "       [0.81761969],\n",
       "       [0.75066499],\n",
       "       [0.75394088],\n",
       "       [0.85857794],\n",
       "       [0.84234982],\n",
       "       [0.81922695],\n",
       "       [0.79630578],\n",
       "       [0.72485372],\n",
       "       [0.6967239 ],\n",
       "       [0.75270502],\n",
       "       [0.68621385],\n",
       "       [0.69857768],\n",
       "       [0.71097335],\n",
       "       [0.71870179],\n",
       "       [0.67309175],\n",
       "       [0.55966026],\n",
       "       [0.55321467],\n",
       "       [0.5421326 ],\n",
       "       [0.62210213],\n",
       "       [0.59349363],\n",
       "       [0.65533179],\n",
       "       [0.62728002],\n",
       "       [0.67233349],\n",
       "       [0.69165342],\n",
       "       [0.62208682],\n",
       "       [0.62975282],\n",
       "       [0.58690909],\n",
       "       [0.60123629],\n",
       "       [0.56723305],\n",
       "       [0.57496149],\n",
       "       [0.57299812],\n",
       "       [0.56565763],\n",
       "       [0.60278219],\n",
       "       [0.61669193],\n",
       "       [0.57669256],\n",
       "       [0.60123629],\n",
       "       [0.59007756],\n",
       "       [0.65378712],\n",
       "       [0.64142206],\n",
       "       [0.5845754 ],\n",
       "       [0.5872958 ],\n",
       "       [0.60661573],\n",
       "       [0.61823783],\n",
       "       [0.58732656],\n",
       "       [0.5675584 ],\n",
       "       [0.60741882],\n",
       "       [0.58775932],\n",
       "       [0.60278219],\n",
       "       [0.5710972 ],\n",
       "       [0.59765036],\n",
       "       [0.60276689],\n",
       "       [0.59069549],\n",
       "       [0.51004683],\n",
       "       [0.51816074],\n",
       "       [0.485332  ],\n",
       "       [0.41336927],\n",
       "       [0.31349388],\n",
       "       [0.39721781],\n",
       "       [0.33539387],\n",
       "       [0.33207084],\n",
       "       [0.36289031],\n",
       "       [0.33853158],\n",
       "       [0.39412724],\n",
       "       [0.4152702 ],\n",
       "       [0.37867144],\n",
       "       [0.37516217],\n",
       "       [0.36763544],\n",
       "       [0.38871704],\n",
       "       [0.41731131],\n",
       "       [0.37877871],\n",
       "       [0.38386464],\n",
       "       [0.37632137],\n",
       "       [0.38327732],\n",
       "       [0.37140638],\n",
       "       [0.4139719 ],\n",
       "       [0.39913527],\n",
       "       [0.40174717],\n",
       "       [0.44435844],\n",
       "       [0.42426617],\n",
       "       [0.40262801],\n",
       "       [0.32720314],\n",
       "       [0.34349371],\n",
       "       [0.31040191],\n",
       "       [0.41962955],\n",
       "       [0.37751225],\n",
       "       [0.33701752],\n",
       "       [0.29595091],\n",
       "       [0.34788274],\n",
       "       [0.38949061],\n",
       "       [0.33944441],\n",
       "       [0.35100515],\n",
       "       [0.36225708],\n",
       "       [0.3825345 ],\n",
       "       [0.39374037],\n",
       "       [0.39896417],\n",
       "       [0.40494624],\n",
       "       [0.4208501 ],\n",
       "       [0.44026323],\n",
       "       [0.41808364],\n",
       "       [0.51622921],\n",
       "       [0.48902643],\n",
       "       [0.53330756],\n",
       "       [0.51882581],\n",
       "       [0.54955223],\n",
       "       [0.50695487],\n",
       "       [0.46677033],\n",
       "       [0.44510017],\n",
       "       [0.44098951],\n",
       "       [0.49174683],\n",
       "       [0.53632163],\n",
       "       [0.58191636],\n",
       "       [0.52360154],\n",
       "       [0.51284374],\n",
       "       [0.5223646 ],\n",
       "       [0.5131374 ],\n",
       "       [0.46361717],\n",
       "       [0.47332304],\n",
       "       [0.48607497],\n",
       "       [0.44216401],\n",
       "       [0.4142042 ],\n",
       "       [0.45576493],\n",
       "       [0.43908874],\n",
       "       [0.45211763],\n",
       "       [0.39489957],\n",
       "       [0.39607407],\n",
       "       [0.4273416 ],\n",
       "       [0.41581131],\n",
       "       [0.45131346],\n",
       "       [0.40593558],\n",
       "       [0.43817606],\n",
       "       [0.40598164],\n",
       "       [0.407728  ],\n",
       "       [0.42658457],\n",
       "       [0.41109817],\n",
       "       [0.38896464],\n",
       "       [0.37554888],\n",
       "       [0.38695537],\n",
       "       [0.4382232 ],\n",
       "       [0.48995333],\n",
       "       [0.423462  ],\n",
       "       [0.37987654],\n",
       "       [0.40015521],\n",
       "       [0.37788257],\n",
       "       [0.36377114],\n",
       "       [0.31437471],\n",
       "       [0.30745045],\n",
       "       [0.30788321],\n",
       "       [0.34312231],\n",
       "       [0.35159247],\n",
       "       [0.34930484],\n",
       "       [0.36259664],\n",
       "       [0.35137547],\n",
       "       [0.37302894],\n",
       "       [0.31916574],\n",
       "       [0.31992278],\n",
       "       [0.30720284],\n",
       "       [0.31823777],\n",
       "       [0.32282834],\n",
       "       [0.32332355],\n",
       "       [0.27989141],\n",
       "       [0.28669311],\n",
       "       [0.29303005],\n",
       "       [0.28902665]])"
      ]
     },
     "execution_count": 19,
     "metadata": {},
     "output_type": "execute_result"
    }
   ],
   "source": [
    "df1"
   ]
  },
  {
   "cell_type": "code",
   "execution_count": 21,
   "id": "7c67c6ec",
   "metadata": {},
   "outputs": [],
   "source": [
    "training_size = int(len(df1)*0.65)\n",
    "test_size = len(df1)-training_size\n",
    "train_data,test_data = df1[0:training_size,:],df1[training_size:len(df1),:]"
   ]
  },
  {
   "cell_type": "code",
   "execution_count": 22,
   "id": "d24d3f18",
   "metadata": {},
   "outputs": [
    {
     "data": {
      "text/plain": [
       "(170, 92)"
      ]
     },
     "execution_count": 22,
     "metadata": {},
     "output_type": "execute_result"
    }
   ],
   "source": [
    "training_size,test_size"
   ]
  },
  {
   "cell_type": "code",
   "execution_count": 25,
   "id": "3f8fe902",
   "metadata": {},
   "outputs": [],
   "source": [
    "def create_dataset(dataset, time_step=1):\n",
    "    dataX, dataY = [], []\n",
    "    for i in range(len(dataset)-time_step-1):\n",
    "        a = dataset[i:(i+time_step),0]\n",
    "        dataX.append(a)\n",
    "        dataY.append(dataset[i+time_step,0])\n",
    "    return np.array(dataX),np.array(dataY)"
   ]
  },
  {
   "cell_type": "code",
   "execution_count": 84,
   "id": "eccf56ac",
   "metadata": {},
   "outputs": [],
   "source": [
    "time_step = 25\n",
    "x_train, y_train = create_dataset(train_data,time_step)\n",
    "x_test, y_test = create_dataset(test_data, time_step)"
   ]
  },
  {
   "cell_type": "code",
   "execution_count": 85,
   "id": "66ebf369",
   "metadata": {},
   "outputs": [
    {
     "name": "stdout",
     "output_type": "stream",
     "text": [
      "[[0.03477572 0.05255083 0.02015486 ... 0.11901156 0.08707895 0.12828466]\n",
      " [0.05255083 0.02015486 0.03091266 ... 0.08707895 0.12828466 0.16228805]\n",
      " [0.02015486 0.03091266 0.08346226 ... 0.12828466 0.16228805 0.26661491]\n",
      " ...\n",
      " [0.61823783 0.58732656 0.5675584  ... 0.37867144 0.37516217 0.36763544]\n",
      " [0.58732656 0.5675584  0.60741882 ... 0.37516217 0.36763544 0.38871704]\n",
      " [0.5675584  0.60741882 0.58775932 ... 0.36763544 0.38871704 0.41731131]]\n"
     ]
    }
   ],
   "source": [
    "print(x_train)"
   ]
  },
  {
   "cell_type": "code",
   "execution_count": 86,
   "id": "65d1e7cf",
   "metadata": {},
   "outputs": [
    {
     "name": "stdout",
     "output_type": "stream",
     "text": [
      "[[0.37632137 0.38327732 0.37140638 ... 0.39374037 0.39896417 0.40494624]\n",
      " [0.38327732 0.37140638 0.4139719  ... 0.39896417 0.40494624 0.4208501 ]\n",
      " [0.37140638 0.4139719  0.39913527 ... 0.40494624 0.4208501  0.44026323]\n",
      " ...\n",
      " [0.38896464 0.37554888 0.38695537 ... 0.31823777 0.32282834 0.32332355]\n",
      " [0.37554888 0.38695537 0.4382232  ... 0.32282834 0.32332355 0.27989141]\n",
      " [0.38695537 0.4382232  0.48995333 ... 0.32332355 0.27989141 0.28669311]]\n"
     ]
    }
   ],
   "source": [
    "print(x_test)"
   ]
  },
  {
   "cell_type": "code",
   "execution_count": 87,
   "id": "55e43890",
   "metadata": {},
   "outputs": [
    {
     "name": "stdout",
     "output_type": "stream",
     "text": [
      "(144, 25)\n",
      "(144,)\n"
     ]
    },
    {
     "data": {
      "text/plain": [
       "(None, None)"
      ]
     },
     "execution_count": 87,
     "metadata": {},
     "output_type": "execute_result"
    }
   ],
   "source": [
    "print(x_train.shape),print(y_train.shape)"
   ]
  },
  {
   "cell_type": "code",
   "execution_count": 88,
   "id": "7759cda4",
   "metadata": {},
   "outputs": [
    {
     "name": "stdout",
     "output_type": "stream",
     "text": [
      "(66, 25)\n",
      "(66,)\n"
     ]
    },
    {
     "data": {
      "text/plain": [
       "(None, None)"
      ]
     },
     "execution_count": 88,
     "metadata": {},
     "output_type": "execute_result"
    }
   ],
   "source": [
    "print(x_test.shape),print(y_test.shape)"
   ]
  },
  {
   "cell_type": "code",
   "execution_count": 89,
   "id": "6b093980",
   "metadata": {},
   "outputs": [],
   "source": [
    "x_train = x_train.reshape(x_train.shape[0],x_train.shape[1],1)\n",
    "x_test = x_test.reshape(x_test.shape[0],x_test.shape[1],1)"
   ]
  },
  {
   "cell_type": "code",
   "execution_count": 90,
   "id": "5eac2f8e",
   "metadata": {},
   "outputs": [],
   "source": [
    "from tensorflow.keras.models import Sequential\n",
    "from tensorflow.keras.layers import Dense\n",
    "from tensorflow.keras.layers import LSTM\n"
   ]
  },
  {
   "cell_type": "code",
   "execution_count": 103,
   "id": "6e1445a2",
   "metadata": {},
   "outputs": [],
   "source": [
    "model = Sequential()\n",
    "model.add(LSTM(50,return_sequences=True,input_shape=(25,1)))\n",
    "model.add(LSTM(50,return_sequences=True))\n",
    "model.add(LSTM(50))\n",
    "model.add(Dense(1))\n",
    "model.compile(loss='mean_squared_error',optimizer='adam')"
   ]
  },
  {
   "cell_type": "code",
   "execution_count": 104,
   "id": "7d48630c",
   "metadata": {},
   "outputs": [
    {
     "name": "stdout",
     "output_type": "stream",
     "text": [
      "Model: \"sequential_5\"\n",
      "_________________________________________________________________\n",
      " Layer (type)                Output Shape              Param #   \n",
      "=================================================================\n",
      " lstm_15 (LSTM)              (None, 25, 50)            10400     \n",
      "                                                                 \n",
      " lstm_16 (LSTM)              (None, 25, 50)            20200     \n",
      "                                                                 \n",
      " lstm_17 (LSTM)              (None, 50)                20200     \n",
      "                                                                 \n",
      " dense_5 (Dense)             (None, 1)                 51        \n",
      "                                                                 \n",
      "=================================================================\n",
      "Total params: 50851 (198.64 KB)\n",
      "Trainable params: 50851 (198.64 KB)\n",
      "Non-trainable params: 0 (0.00 Byte)\n",
      "_________________________________________________________________\n"
     ]
    }
   ],
   "source": [
    "model.summary()"
   ]
  },
  {
   "cell_type": "code",
   "execution_count": 105,
   "id": "585b2c90",
   "metadata": {},
   "outputs": [
    {
     "name": "stdout",
     "output_type": "stream",
     "text": [
      "Epoch 1/100\n",
      "3/3 [==============================] - 2s 208ms/step - loss: 0.3202 - val_loss: 0.0418\n",
      "Epoch 2/100\n",
      "3/3 [==============================] - 0s 23ms/step - loss: 0.0978 - val_loss: 0.0161\n",
      "Epoch 3/100\n",
      "3/3 [==============================] - 0s 23ms/step - loss: 0.0418 - val_loss: 0.0501\n",
      "Epoch 4/100\n",
      "3/3 [==============================] - 0s 21ms/step - loss: 0.0423 - val_loss: 0.0084\n",
      "Epoch 5/100\n",
      "3/3 [==============================] - 0s 22ms/step - loss: 0.0213 - val_loss: 0.0042\n",
      "Epoch 6/100\n",
      "3/3 [==============================] - 0s 21ms/step - loss: 0.0308 - val_loss: 0.0043\n",
      "Epoch 7/100\n",
      "3/3 [==============================] - 0s 22ms/step - loss: 0.0229 - val_loss: 0.0113\n",
      "Epoch 8/100\n",
      "3/3 [==============================] - 0s 22ms/step - loss: 0.0171 - val_loss: 0.0269\n",
      "Epoch 9/100\n",
      "3/3 [==============================] - 0s 22ms/step - loss: 0.0213 - val_loss: 0.0279\n",
      "Epoch 10/100\n",
      "3/3 [==============================] - 0s 22ms/step - loss: 0.0190 - val_loss: 0.0167\n",
      "Epoch 11/100\n",
      "3/3 [==============================] - 0s 21ms/step - loss: 0.0153 - val_loss: 0.0099\n",
      "Epoch 12/100\n",
      "3/3 [==============================] - 0s 22ms/step - loss: 0.0168 - val_loss: 0.0087\n",
      "Epoch 13/100\n",
      "3/3 [==============================] - 0s 22ms/step - loss: 0.0168 - val_loss: 0.0118\n",
      "Epoch 14/100\n",
      "3/3 [==============================] - 0s 22ms/step - loss: 0.0153 - val_loss: 0.0170\n",
      "Epoch 15/100\n",
      "3/3 [==============================] - 0s 22ms/step - loss: 0.0149 - val_loss: 0.0201\n",
      "Epoch 16/100\n",
      "3/3 [==============================] - 0s 22ms/step - loss: 0.0151 - val_loss: 0.0184\n",
      "Epoch 17/100\n",
      "3/3 [==============================] - 0s 22ms/step - loss: 0.0145 - val_loss: 0.0148\n",
      "Epoch 18/100\n",
      "3/3 [==============================] - 0s 22ms/step - loss: 0.0144 - val_loss: 0.0140\n",
      "Epoch 19/100\n",
      "3/3 [==============================] - 0s 22ms/step - loss: 0.0143 - val_loss: 0.0149\n",
      "Epoch 20/100\n",
      "3/3 [==============================] - 0s 22ms/step - loss: 0.0140 - val_loss: 0.0173\n",
      "Epoch 21/100\n",
      "3/3 [==============================] - 0s 22ms/step - loss: 0.0139 - val_loss: 0.0185\n",
      "Epoch 22/100\n",
      "3/3 [==============================] - 0s 23ms/step - loss: 0.0137 - val_loss: 0.0182\n",
      "Epoch 23/100\n",
      "3/3 [==============================] - 0s 22ms/step - loss: 0.0135 - val_loss: 0.0167\n",
      "Epoch 24/100\n",
      "3/3 [==============================] - 0s 22ms/step - loss: 0.0133 - val_loss: 0.0153\n",
      "Epoch 25/100\n",
      "3/3 [==============================] - 0s 22ms/step - loss: 0.0133 - val_loss: 0.0157\n",
      "Epoch 26/100\n",
      "3/3 [==============================] - 0s 22ms/step - loss: 0.0130 - val_loss: 0.0190\n",
      "Epoch 27/100\n",
      "3/3 [==============================] - 0s 22ms/step - loss: 0.0130 - val_loss: 0.0185\n",
      "Epoch 28/100\n",
      "3/3 [==============================] - 0s 22ms/step - loss: 0.0127 - val_loss: 0.0156\n",
      "Epoch 29/100\n",
      "3/3 [==============================] - 0s 23ms/step - loss: 0.0124 - val_loss: 0.0165\n",
      "Epoch 30/100\n",
      "3/3 [==============================] - 0s 23ms/step - loss: 0.0122 - val_loss: 0.0170\n",
      "Epoch 31/100\n",
      "3/3 [==============================] - 0s 23ms/step - loss: 0.0120 - val_loss: 0.0181\n",
      "Epoch 32/100\n",
      "3/3 [==============================] - 0s 23ms/step - loss: 0.0118 - val_loss: 0.0185\n",
      "Epoch 33/100\n",
      "3/3 [==============================] - 0s 23ms/step - loss: 0.0116 - val_loss: 0.0162\n",
      "Epoch 34/100\n",
      "3/3 [==============================] - 0s 23ms/step - loss: 0.0112 - val_loss: 0.0139\n",
      "Epoch 35/100\n",
      "3/3 [==============================] - 0s 23ms/step - loss: 0.0111 - val_loss: 0.0150\n",
      "Epoch 36/100\n",
      "3/3 [==============================] - 0s 23ms/step - loss: 0.0108 - val_loss: 0.0162\n",
      "Epoch 37/100\n",
      "3/3 [==============================] - 0s 23ms/step - loss: 0.0105 - val_loss: 0.0149\n",
      "Epoch 38/100\n",
      "3/3 [==============================] - 0s 23ms/step - loss: 0.0102 - val_loss: 0.0166\n",
      "Epoch 39/100\n",
      "3/3 [==============================] - 0s 23ms/step - loss: 0.0100 - val_loss: 0.0142\n",
      "Epoch 40/100\n",
      "3/3 [==============================] - 0s 23ms/step - loss: 0.0096 - val_loss: 0.0130\n",
      "Epoch 41/100\n",
      "3/3 [==============================] - 0s 23ms/step - loss: 0.0094 - val_loss: 0.0129\n",
      "Epoch 42/100\n",
      "3/3 [==============================] - 0s 23ms/step - loss: 0.0092 - val_loss: 0.0140\n",
      "Epoch 43/100\n",
      "3/3 [==============================] - 0s 22ms/step - loss: 0.0090 - val_loss: 0.0110\n",
      "Epoch 44/100\n",
      "3/3 [==============================] - 0s 23ms/step - loss: 0.0085 - val_loss: 0.0070\n",
      "Epoch 45/100\n",
      "3/3 [==============================] - 0s 23ms/step - loss: 0.0093 - val_loss: 0.0140\n",
      "Epoch 46/100\n",
      "3/3 [==============================] - 0s 22ms/step - loss: 0.0090 - val_loss: 0.0080\n",
      "Epoch 47/100\n",
      "3/3 [==============================] - 0s 23ms/step - loss: 0.0080 - val_loss: 0.0110\n",
      "Epoch 48/100\n",
      "3/3 [==============================] - 0s 23ms/step - loss: 0.0084 - val_loss: 0.0063\n",
      "Epoch 49/100\n",
      "3/3 [==============================] - 0s 23ms/step - loss: 0.0086 - val_loss: 0.0037\n",
      "Epoch 50/100\n",
      "3/3 [==============================] - 0s 23ms/step - loss: 0.0105 - val_loss: 0.0085\n",
      "Epoch 51/100\n",
      "3/3 [==============================] - 0s 23ms/step - loss: 0.0084 - val_loss: 0.0053\n",
      "Epoch 52/100\n",
      "3/3 [==============================] - 0s 23ms/step - loss: 0.0082 - val_loss: 0.0038\n",
      "Epoch 53/100\n",
      "3/3 [==============================] - 0s 25ms/step - loss: 0.0097 - val_loss: 0.0100\n",
      "Epoch 54/100\n",
      "3/3 [==============================] - 0s 23ms/step - loss: 0.0092 - val_loss: 0.0060\n",
      "Epoch 55/100\n",
      "3/3 [==============================] - 0s 23ms/step - loss: 0.0079 - val_loss: 0.0049\n",
      "Epoch 56/100\n",
      "3/3 [==============================] - 0s 22ms/step - loss: 0.0084 - val_loss: 0.0072\n",
      "Epoch 57/100\n",
      "3/3 [==============================] - 0s 23ms/step - loss: 0.0082 - val_loss: 0.0075\n",
      "Epoch 58/100\n",
      "3/3 [==============================] - 0s 23ms/step - loss: 0.0078 - val_loss: 0.0074\n",
      "Epoch 59/100\n",
      "3/3 [==============================] - 0s 23ms/step - loss: 0.0078 - val_loss: 0.0064\n",
      "Epoch 60/100\n",
      "3/3 [==============================] - 0s 23ms/step - loss: 0.0078 - val_loss: 0.0067\n",
      "Epoch 61/100\n",
      "3/3 [==============================] - 0s 23ms/step - loss: 0.0085 - val_loss: 0.0088\n",
      "Epoch 62/100\n",
      "3/3 [==============================] - 0s 22ms/step - loss: 0.0100 - val_loss: 0.0042\n",
      "Epoch 63/100\n",
      "3/3 [==============================] - 0s 24ms/step - loss: 0.0103 - val_loss: 0.0056\n",
      "Epoch 64/100\n",
      "3/3 [==============================] - 0s 24ms/step - loss: 0.0088 - val_loss: 0.0093\n",
      "Epoch 65/100\n",
      "3/3 [==============================] - 0s 23ms/step - loss: 0.0080 - val_loss: 0.0041\n",
      "Epoch 66/100\n",
      "3/3 [==============================] - 0s 23ms/step - loss: 0.0088 - val_loss: 0.0126\n",
      "Epoch 67/100\n",
      "3/3 [==============================] - 0s 24ms/step - loss: 0.0095 - val_loss: 0.0059\n",
      "Epoch 68/100\n",
      "3/3 [==============================] - 0s 23ms/step - loss: 0.0087 - val_loss: 0.0049\n",
      "Epoch 69/100\n",
      "3/3 [==============================] - 0s 23ms/step - loss: 0.0091 - val_loss: 0.0101\n",
      "Epoch 70/100\n",
      "3/3 [==============================] - 0s 23ms/step - loss: 0.0078 - val_loss: 0.0055\n",
      "Epoch 71/100\n",
      "3/3 [==============================] - 0s 23ms/step - loss: 0.0083 - val_loss: 0.0080\n",
      "Epoch 72/100\n",
      "3/3 [==============================] - 0s 22ms/step - loss: 0.0079 - val_loss: 0.0093\n",
      "Epoch 73/100\n",
      "3/3 [==============================] - 0s 23ms/step - loss: 0.0078 - val_loss: 0.0058\n",
      "Epoch 74/100\n",
      "3/3 [==============================] - 0s 23ms/step - loss: 0.0078 - val_loss: 0.0085\n",
      "Epoch 75/100\n",
      "3/3 [==============================] - 0s 23ms/step - loss: 0.0079 - val_loss: 0.0083\n",
      "Epoch 76/100\n",
      "3/3 [==============================] - 0s 23ms/step - loss: 0.0079 - val_loss: 0.0063\n",
      "Epoch 77/100\n",
      "3/3 [==============================] - 0s 22ms/step - loss: 0.0075 - val_loss: 0.0084\n",
      "Epoch 78/100\n",
      "3/3 [==============================] - 0s 23ms/step - loss: 0.0079 - val_loss: 0.0054\n",
      "Epoch 79/100\n",
      "3/3 [==============================] - 0s 23ms/step - loss: 0.0077 - val_loss: 0.0054\n",
      "Epoch 80/100\n",
      "3/3 [==============================] - 0s 24ms/step - loss: 0.0077 - val_loss: 0.0063\n",
      "Epoch 81/100\n",
      "3/3 [==============================] - 0s 23ms/step - loss: 0.0076 - val_loss: 0.0036\n",
      "Epoch 82/100\n",
      "3/3 [==============================] - 0s 22ms/step - loss: 0.0084 - val_loss: 0.0066\n",
      "Epoch 83/100\n",
      "3/3 [==============================] - 0s 23ms/step - loss: 0.0077 - val_loss: 0.0052\n",
      "Epoch 84/100\n",
      "3/3 [==============================] - 0s 22ms/step - loss: 0.0075 - val_loss: 0.0051\n",
      "Epoch 85/100\n",
      "3/3 [==============================] - 0s 22ms/step - loss: 0.0074 - val_loss: 0.0055\n",
      "Epoch 86/100\n",
      "3/3 [==============================] - 0s 22ms/step - loss: 0.0073 - val_loss: 0.0030\n",
      "Epoch 87/100\n",
      "3/3 [==============================] - 0s 23ms/step - loss: 0.0089 - val_loss: 0.0054\n",
      "Epoch 88/100\n",
      "3/3 [==============================] - 0s 22ms/step - loss: 0.0079 - val_loss: 0.0057\n",
      "Epoch 89/100\n",
      "3/3 [==============================] - 0s 23ms/step - loss: 0.0076 - val_loss: 0.0040\n",
      "Epoch 90/100\n",
      "3/3 [==============================] - 0s 23ms/step - loss: 0.0074 - val_loss: 0.0070\n",
      "Epoch 91/100\n",
      "3/3 [==============================] - 0s 22ms/step - loss: 0.0079 - val_loss: 0.0050\n",
      "Epoch 92/100\n",
      "3/3 [==============================] - 0s 22ms/step - loss: 0.0074 - val_loss: 0.0050\n",
      "Epoch 93/100\n",
      "3/3 [==============================] - 0s 22ms/step - loss: 0.0075 - val_loss: 0.0063\n",
      "Epoch 94/100\n",
      "3/3 [==============================] - 0s 22ms/step - loss: 0.0077 - val_loss: 0.0067\n",
      "Epoch 95/100\n",
      "3/3 [==============================] - 0s 22ms/step - loss: 0.0073 - val_loss: 0.0035\n",
      "Epoch 96/100\n",
      "3/3 [==============================] - 0s 23ms/step - loss: 0.0085 - val_loss: 0.0065\n",
      "Epoch 97/100\n",
      "3/3 [==============================] - 0s 22ms/step - loss: 0.0079 - val_loss: 0.0062\n",
      "Epoch 98/100\n",
      "3/3 [==============================] - 0s 22ms/step - loss: 0.0075 - val_loss: 0.0034\n",
      "Epoch 99/100\n",
      "3/3 [==============================] - 0s 22ms/step - loss: 0.0078 - val_loss: 0.0078\n",
      "Epoch 100/100\n",
      "3/3 [==============================] - 0s 23ms/step - loss: 0.0089 - val_loss: 0.0040\n"
     ]
    },
    {
     "data": {
      "text/plain": [
       "<keras.src.callbacks.History at 0x28040b950>"
      ]
     },
     "execution_count": 105,
     "metadata": {},
     "output_type": "execute_result"
    }
   ],
   "source": [
    "model.fit(x_train,y_train,validation_data=(x_test,y_test),epochs=100,batch_size=64,verbose=1)"
   ]
  },
  {
   "cell_type": "code",
   "execution_count": 56,
   "id": "8dfdd1d7",
   "metadata": {},
   "outputs": [],
   "source": [
    "import tensorflow as tf"
   ]
  },
  {
   "cell_type": "code",
   "execution_count": 106,
   "id": "30199f04",
   "metadata": {},
   "outputs": [
    {
     "data": {
      "text/plain": [
       "'2.13.0'"
      ]
     },
     "execution_count": 106,
     "metadata": {},
     "output_type": "execute_result"
    }
   ],
   "source": [
    "tf.__version__"
   ]
  },
  {
   "cell_type": "code",
   "execution_count": 107,
   "id": "508ca2e6",
   "metadata": {},
   "outputs": [
    {
     "name": "stdout",
     "output_type": "stream",
     "text": [
      "5/5 [==============================] - 0s 4ms/step\n",
      "3/3 [==============================] - 0s 3ms/step\n"
     ]
    }
   ],
   "source": [
    "#lets predict the model\n",
    "train_predict= model.predict(x_train)\n",
    "test_predict= model.predict(x_test)"
   ]
  },
  {
   "cell_type": "code",
   "execution_count": 108,
   "id": "a19ff4a9",
   "metadata": {},
   "outputs": [],
   "source": [
    "train_predict=scaler.inverse_transform(train_predict)\n",
    "test_predict=scaler.inverse_transform(test_predict)\n"
   ]
  },
  {
   "cell_type": "code",
   "execution_count": 109,
   "id": "07ab3667",
   "metadata": {},
   "outputs": [
    {
     "data": {
      "text/plain": [
       "74.50551701342289"
      ]
     },
     "execution_count": 109,
     "metadata": {},
     "output_type": "execute_result"
    }
   ],
   "source": [
    "#calculating RMSE\n",
    "import math\n",
    "from sklearn.metrics import mean_squared_error\n",
    "math.sqrt(mean_squared_error(y_train,train_predict))"
   ]
  },
  {
   "cell_type": "code",
   "execution_count": 110,
   "id": "437fb953",
   "metadata": {},
   "outputs": [
    {
     "data": {
      "text/plain": [
       "73.65279027856334"
      ]
     },
     "execution_count": 110,
     "metadata": {},
     "output_type": "execute_result"
    }
   ],
   "source": [
    "#testdata rmse\n",
    "math.sqrt(mean_squared_error(y_test,test_predict))"
   ]
  },
  {
   "cell_type": "code",
   "execution_count": 112,
   "id": "25d1741c",
   "metadata": {},
   "outputs": [
    {
     "data": {
      "image/png": "[encoded data removed]",
      "text/plain": [
       "<Figure size 640x480 with 1 Axes>"
      ]
     },
     "metadata": {},
     "output_type": "display_data"
    }
   ],
   "source": [
    "#plotting and shift train prediction for plotting\n",
    "look_back = 25\n",
    "trainPredictPlot = np.empty_like(df1)\n",
    "trainPredictPlot[:,:] = np.nan\n",
    "trainPredictPlot[look_back:len(train_predict)+look_back, :] = train_predict\n",
    "#shift test predictions for plotting\n",
    "testPredictPlot = np.empty_like(df1)\n",
    "testPredictPlot[:,:] = np.nan\n",
    "testPredictPlot[look_back+len(train_predict)+1:look_back+len(train_predict)+len(test_predict)+1, :] = test_predict\n",
    "#plot baseline and predictions \n",
    "plt.plot(scaler.inverse_transform(df1))\n",
    "plt.plot(trainPredictPlot)\n",
    "plt.plot(testPredictPlot)\n",
    "plt.show()"
   ]
  },
  {
   "cell_type": "code",
   "execution_count": 76,
   "id": "91edb3b4",
   "metadata": {},
   "outputs": [
    {
     "name": "stdout",
     "output_type": "stream",
     "text": [
      "(262, 1)\n",
      "(41, 1)\n"
     ]
    }
   ],
   "source": [
    "print(testPredictPlot.shape)\n",
    "print(test_predict.shape)"
   ]
  },
  {
   "cell_type": "code",
   "execution_count": 114,
   "id": "1de143ac",
   "metadata": {},
   "outputs": [
    {
     "data": {
      "text/plain": [
       "92"
      ]
     },
     "execution_count": 114,
     "metadata": {},
     "output_type": "execute_result"
    }
   ],
   "source": [
    "len(test_data)"
   ]
  },
  {
   "cell_type": "markdown",
   "id": "86d8f47e",
   "metadata": {},
   "source": [
    " "
   ]
  },
  {
   "cell_type": "code",
   "execution_count": 117,
   "id": "efacc049",
   "metadata": {},
   "outputs": [
    {
     "data": {
      "text/plain": [
       "(1, 25)"
      ]
     },
     "execution_count": 117,
     "metadata": {},
     "output_type": "execute_result"
    }
   ],
   "source": [
    "#taking previous 25 days to predict output\n",
    "x_input=test_data[67:].reshape(1,-1)\n",
    "x_input.shape"
   ]
  },
  {
   "cell_type": "code",
   "execution_count": 116,
   "id": "a9bc5e13",
   "metadata": {},
   "outputs": [
    {
     "data": {
      "text/plain": [
       "67"
      ]
     },
     "execution_count": 116,
     "metadata": {},
     "output_type": "execute_result"
    }
   ],
   "source": [
    "92-25\n"
   ]
  },
  {
   "cell_type": "code",
   "execution_count": 118,
   "id": "80e66057",
   "metadata": {},
   "outputs": [],
   "source": [
    "temp_input = list(x_input)\n",
    "temp_input = temp_input[0].tolist()"
   ]
  },
  {
   "cell_type": "code",
   "execution_count": 119,
   "id": "70594363",
   "metadata": {},
   "outputs": [
    {
     "data": {
      "text/plain": [
       "[0.48995332613498555,\n",
       " 0.42346200202102047,\n",
       " 0.3798765440876224,\n",
       " 0.4001552086073552,\n",
       " 0.37788257252470814,\n",
       " 0.3637711394834202,\n",
       " 0.3143747096214202,\n",
       " 0.3074504459194909,\n",
       " 0.30788321240086347,\n",
       " 0.34312230506265706,\n",
       " 0.3515924724598243,\n",
       " 0.3493048379274075,\n",
       " 0.3625966421648723,\n",
       " 0.3513754709813064,\n",
       " 0.37302894187668123,\n",
       " 0.31916574368910666,\n",
       " 0.31992277591258933,\n",
       " 0.3072028416683654,\n",
       " 0.31823776870548137,\n",
       " 0.3228283391566187,\n",
       " 0.32332354765887317,\n",
       " 0.2798914127074461,\n",
       " 0.28669311075947235,\n",
       " 0.29303004852239667,\n",
       " 0.28902664945080403]"
      ]
     },
     "execution_count": 119,
     "metadata": {},
     "output_type": "execute_result"
    }
   ],
   "source": [
    "temp_input"
   ]
  },
  {
   "cell_type": "code",
   "execution_count": 123,
   "id": "25a14fbb",
   "metadata": {},
   "outputs": [
    {
     "name": "stdout",
     "output_type": "stream",
     "text": [
      "0 day input [0.60882914 0.60926217 0.60919988 0.60868126 0.60774779 0.60643625\n",
      " 0.60478544 0.60282362 0.60057628 0.5980736  0.59533978 0.59240735\n",
      " 0.58929205 0.58602464 0.58263063 0.57913977 0.57557672 0.57196343\n",
      " 0.56831276 0.56464922 0.56099427 0.557365   0.55379468 0.55029154\n",
      " 0.54686576]\n",
      "0 day output [[0.5435288]]\n",
      "1 day input [0.60926217 0.60919988 0.60868126 0.60774779 0.60643625 0.60478544\n",
      " 0.60282362 0.60057628 0.5980736  0.59533978 0.59240735 0.58929205\n",
      " 0.58602464 0.58263063 0.57913977 0.57557672 0.57196343 0.56831276\n",
      " 0.56464922 0.56099427 0.557365   0.55379468 0.55029154 0.54686576\n",
      " 0.5435288 ]\n",
      "1 day output [[0.5402929]]\n",
      "2 day input [0.60919988 0.60868126 0.60774779 0.60643625 0.60478544 0.60282362\n",
      " 0.60057628 0.5980736  0.59533978 0.59240735 0.58929205 0.58602464\n",
      " 0.58263063 0.57913977 0.57557672 0.57196343 0.56831276 0.56464922\n",
      " 0.56099427 0.557365   0.55379468 0.55029154 0.54686576 0.5435288\n",
      " 0.54029292]\n",
      "2 day output [[0.5371693]]\n",
      "3 day input [0.60868126 0.60774779 0.60643625 0.60478544 0.60282362 0.60057628\n",
      " 0.5980736  0.59533978 0.59240735 0.58929205 0.58602464 0.58263063\n",
      " 0.57913977 0.57557672 0.57196343 0.56831276 0.56464922 0.56099427\n",
      " 0.557365   0.55379468 0.55029154 0.54686576 0.5435288  0.54029292\n",
      " 0.53716928]\n",
      "3 day output [[0.53416955]]\n",
      "4 day input [0.60774779 0.60643625 0.60478544 0.60282362 0.60057628 0.5980736\n",
      " 0.59533978 0.59240735 0.58929205 0.58602464 0.58263063 0.57913977\n",
      " 0.57557672 0.57196343 0.56831276 0.56464922 0.56099427 0.557365\n",
      " 0.55379468 0.55029154 0.54686576 0.5435288  0.54029292 0.53716928\n",
      " 0.53416955]\n",
      "4 day output [[0.531303]]\n",
      "5 day input [0.60643625 0.60478544 0.60282362 0.60057628 0.5980736  0.59533978\n",
      " 0.59240735 0.58929205 0.58602464 0.58263063 0.57913977 0.57557672\n",
      " 0.57196343 0.56831276 0.56464922 0.56099427 0.557365   0.55379468\n",
      " 0.55029154 0.54686576 0.5435288  0.54029292 0.53716928 0.53416955\n",
      " 0.53130299]\n",
      "5 day output [[0.5285787]]\n",
      "6 day input [0.60478544 0.60282362 0.60057628 0.5980736  0.59533978 0.59240735\n",
      " 0.58929205 0.58602464 0.58263063 0.57913977 0.57557672 0.57196343\n",
      " 0.56831276 0.56464922 0.56099427 0.557365   0.55379468 0.55029154\n",
      " 0.54686576 0.5435288  0.54029292 0.53716928 0.53416955 0.53130299\n",
      " 0.5285787 ]\n",
      "6 day output [[0.5260042]]\n",
      "7 day input [0.60282362 0.60057628 0.5980736  0.59533978 0.59240735 0.58929205\n",
      " 0.58602464 0.58263063 0.57913977 0.57557672 0.57196343 0.56831276\n",
      " 0.56464922 0.56099427 0.557365   0.55379468 0.55029154 0.54686576\n",
      " 0.5435288  0.54029292 0.53716928 0.53416955 0.53130299 0.5285787\n",
      " 0.5260042 ]\n",
      "7 day output [[0.5235858]]\n",
      "8 day input [0.60057628 0.5980736  0.59533978 0.59240735 0.58929205 0.58602464\n",
      " 0.58263063 0.57913977 0.57557672 0.57196343 0.56831276 0.56464922\n",
      " 0.56099427 0.557365   0.55379468 0.55029154 0.54686576 0.5435288\n",
      " 0.54029292 0.53716928 0.53416955 0.53130299 0.5285787  0.5260042\n",
      " 0.5235858 ]\n",
      "8 day output [[0.5213289]]\n",
      "9 day input [0.5980736  0.59533978 0.59240735 0.58929205 0.58602464 0.58263063\n",
      " 0.57913977 0.57557672 0.57196343 0.56831276 0.56464922 0.56099427\n",
      " 0.557365   0.55379468 0.55029154 0.54686576 0.5435288  0.54029292\n",
      " 0.53716928 0.53416955 0.53130299 0.5285787  0.5260042  0.5235858\n",
      " 0.52132893]\n",
      "9 day output [[0.51923764]]\n",
      "10 day input [0.59533978 0.59240735 0.58929205 0.58602464 0.58263063 0.57913977\n",
      " 0.57557672 0.57196343 0.56831276 0.56464922 0.56099427 0.557365\n",
      " 0.55379468 0.55029154 0.54686576 0.5435288  0.54029292 0.53716928\n",
      " 0.53416955 0.53130299 0.5285787  0.5260042  0.5235858  0.52132893\n",
      " 0.51923764]\n",
      "10 day output [[0.5173151]]\n",
      "11 day input [0.59240735 0.58929205 0.58602464 0.58263063 0.57913977 0.57557672\n",
      " 0.57196343 0.56831276 0.56464922 0.56099427 0.557365   0.55379468\n",
      " 0.55029154 0.54686576 0.5435288  0.54029292 0.53716928 0.53416955\n",
      " 0.53130299 0.5285787  0.5260042  0.5235858  0.52132893 0.51923764\n",
      " 0.51731509]\n",
      "11 day output [[0.5155629]]\n",
      "12 day input [0.58929205 0.58602464 0.58263063 0.57913977 0.57557672 0.57196343\n",
      " 0.56831276 0.56464922 0.56099427 0.557365   0.55379468 0.55029154\n",
      " 0.54686576 0.5435288  0.54029292 0.53716928 0.53416955 0.53130299\n",
      " 0.5285787  0.5260042  0.5235858  0.52132893 0.51923764 0.51731509\n",
      " 0.51556289]\n",
      "12 day output [[0.51398224]]\n",
      "13 day input [0.58602464 0.58263063 0.57913977 0.57557672 0.57196343 0.56831276\n",
      " 0.56464922 0.56099427 0.557365   0.55379468 0.55029154 0.54686576\n",
      " 0.5435288  0.54029292 0.53716928 0.53416955 0.53130299 0.5285787\n",
      " 0.5260042  0.5235858  0.52132893 0.51923764 0.51731509 0.51556289\n",
      " 0.51398224]\n",
      "13 day output [[0.5125729]]\n",
      "14 day input [0.58263063 0.57913977 0.57557672 0.57196343 0.56831276 0.56464922\n",
      " 0.56099427 0.557365   0.55379468 0.55029154 0.54686576 0.5435288\n",
      " 0.54029292 0.53716928 0.53416955 0.53130299 0.5285787  0.5260042\n",
      " 0.5235858  0.52132893 0.51923764 0.51731509 0.51556289 0.51398224\n",
      " 0.51257288]\n",
      "14 day output [[0.5113341]]\n",
      "15 day input [0.57913977 0.57557672 0.57196343 0.56831276 0.56464922 0.56099427\n",
      " 0.557365   0.55379468 0.55029154 0.54686576 0.5435288  0.54029292\n",
      " 0.53716928 0.53416955 0.53130299 0.5285787  0.5260042  0.5235858\n",
      " 0.52132893 0.51923764 0.51731509 0.51556289 0.51398224 0.51257288\n",
      " 0.51133412]\n",
      "15 day output [[0.5102636]]\n",
      "16 day input [0.57557672 0.57196343 0.56831276 0.56464922 0.56099427 0.557365\n",
      " 0.55379468 0.55029154 0.54686576 0.5435288  0.54029292 0.53716928\n",
      " 0.53416955 0.53130299 0.5285787  0.5260042  0.5235858  0.52132893\n",
      " 0.51923764 0.51731509 0.51556289 0.51398224 0.51257288 0.51133412\n",
      " 0.51026362]\n",
      "16 day output [[0.5093591]]\n",
      "17 day input [0.57196343 0.56831276 0.56464922 0.56099427 0.557365   0.55379468\n",
      " 0.55029154 0.54686576 0.5435288  0.54029292 0.53716928 0.53416955\n",
      " 0.53130299 0.5285787  0.5260042  0.5235858  0.52132893 0.51923764\n",
      " 0.51731509 0.51556289 0.51398224 0.51257288 0.51133412 0.51026362\n",
      " 0.50935912]\n",
      "17 day output [[0.50861686]]\n",
      "18 day input [0.56831276 0.56464922 0.56099427 0.557365   0.55379468 0.55029154\n",
      " 0.54686576 0.5435288  0.54029292 0.53716928 0.53416955 0.53130299\n",
      " 0.5285787  0.5260042  0.5235858  0.52132893 0.51923764 0.51731509\n",
      " 0.51556289 0.51398224 0.51257288 0.51133412 0.51026362 0.50935912\n",
      " 0.50861686]\n",
      "18 day output [[0.5080329]]\n",
      "19 day input [0.56464922 0.56099427 0.557365   0.55379468 0.55029154 0.54686576\n",
      " 0.5435288  0.54029292 0.53716928 0.53416955 0.53130299 0.5285787\n",
      " 0.5260042  0.5235858  0.52132893 0.51923764 0.51731509 0.51556289\n",
      " 0.51398224 0.51257288 0.51133412 0.51026362 0.50935912 0.50861686\n",
      " 0.50803292]\n",
      "19 day output [[0.5076018]]\n",
      "20 day input [0.56099427 0.557365   0.55379468 0.55029154 0.54686576 0.5435288\n",
      " 0.54029292 0.53716928 0.53416955 0.53130299 0.5285787  0.5260042\n",
      " 0.5235858  0.52132893 0.51923764 0.51731509 0.51556289 0.51398224\n",
      " 0.51257288 0.51133412 0.51026362 0.50935912 0.50861686 0.50803292\n",
      " 0.5076018 ]\n",
      "20 day output [[0.5073182]]\n",
      "21 day input [0.557365   0.55379468 0.55029154 0.54686576 0.5435288  0.54029292\n",
      " 0.53716928 0.53416955 0.53130299 0.5285787  0.5260042  0.5235858\n",
      " 0.52132893 0.51923764 0.51731509 0.51556289 0.51398224 0.51257288\n",
      " 0.51133412 0.51026362 0.50935912 0.50861686 0.50803292 0.5076018\n",
      " 0.5073182 ]\n",
      "21 day output [[0.50717586]]\n",
      "22 day input [0.55379468 0.55029154 0.54686576 0.5435288  0.54029292 0.53716928\n",
      " 0.53416955 0.53130299 0.5285787  0.5260042  0.5235858  0.52132893\n",
      " 0.51923764 0.51731509 0.51556289 0.51398224 0.51257288 0.51133412\n",
      " 0.51026362 0.50935912 0.50861686 0.50803292 0.5076018  0.5073182\n",
      " 0.50717586]\n",
      "22 day output [[0.5071676]]\n",
      "23 day input [0.55029154 0.54686576 0.5435288  0.54029292 0.53716928 0.53416955\n",
      " 0.53130299 0.5285787  0.5260042  0.5235858  0.52132893 0.51923764\n",
      " 0.51731509 0.51556289 0.51398224 0.51257288 0.51133412 0.51026362\n",
      " 0.50935912 0.50861686 0.50803292 0.5076018  0.5073182  0.50717586\n",
      " 0.50716758]\n",
      "23 day output [[0.50728685]]\n",
      "24 day input [0.54686576 0.5435288  0.54029292 0.53716928 0.53416955 0.53130299\n",
      " 0.5285787  0.5260042  0.5235858  0.52132893 0.51923764 0.51731509\n",
      " 0.51556289 0.51398224 0.51257288 0.51133412 0.51026362 0.50935912\n",
      " 0.50861686 0.50803292 0.5076018  0.5073182  0.50717586 0.50716758\n",
      " 0.50728685]\n",
      "24 day output [[0.5075259]]\n",
      "[[0.5435287952423096], [0.5402929186820984], [0.5371692776679993], [0.5341695547103882], [0.5313029885292053], [0.5285786986351013], [0.5260041952133179], [0.5235857963562012], [0.5213289260864258], [0.5192376375198364], [0.5173150897026062], [0.515562891960144], [0.5139822363853455], [0.5125728845596313], [0.5113341212272644], [0.5102636218070984], [0.5093591213226318], [0.5086168646812439], [0.5080329179763794], [0.507601797580719], [0.5073181986808777], [0.507175862789154], [0.5071675777435303], [0.5072868466377258], [0.5075259208679199]]\n"
     ]
    }
   ],
   "source": [
    "from numpy import array\n",
    "\n",
    "lst_output=[]\n",
    "n_steps=25\n",
    "i=0\n",
    "while(i<25):\n",
    "    \n",
    "    if(len(temp_input)>25):\n",
    "        #print(temp_input)\n",
    "        x_input=np.array(temp_input[1:])\n",
    "        print(\"{} day input {}\".format(i,x_input))\n",
    "        x_input=x_input.reshape(1,-1)\n",
    "        x_input = x_input.reshape((1, n_steps, 1))\n",
    "        #print(x_input)\n",
    "        yhat = model.predict(x_input, verbose=0)\n",
    "        print(\"{} day output {}\".format(i,yhat))\n",
    "        temp_input.extend(yhat[0].tolist())\n",
    "        temp_input=temp_input[1:]\n",
    "        #print(temp_input)\n",
    "        lst_output.extend(yhat.tolist())\n",
    "        i=i+1\n",
    "    else:\n",
    "        x_input = x_input.reshape((1, n_steps,1))\n",
    "        yhat = model.predict(x_input, verbose=0)\n",
    "        print(yhat[0])\n",
    "        temp_input.extend(yhat[0].tolist())\n",
    "        print(len(temp_input))\n",
    "        lst_output.extend(yhat.tolist())\n",
    "        i=i+1\n",
    "    \n",
    "\n",
    "print(lst_output)"
   ]
  },
  {
   "cell_type": "code",
   "execution_count": 124,
   "id": "b137192f",
   "metadata": {},
   "outputs": [],
   "source": [
    "day_new=np.arange(1,26)\n",
    "day_pred=np.arange(26,51)"
   ]
  },
  {
   "cell_type": "code",
   "execution_count": 125,
   "id": "5e0dbc9b",
   "metadata": {},
   "outputs": [
    {
     "data": {
      "text/plain": [
       "262"
      ]
     },
     "execution_count": 125,
     "metadata": {},
     "output_type": "execute_result"
    }
   ],
   "source": [
    "len(df1)"
   ]
  },
  {
   "cell_type": "code",
   "execution_count": 127,
   "id": "ba6cf534",
   "metadata": {},
   "outputs": [],
   "source": [
    "df3=df1.tolist()\n",
    "df3.extend(lst_output)"
   ]
  },
  {
   "cell_type": "code",
   "execution_count": 130,
   "id": "aeba430c",
   "metadata": {},
   "outputs": [
    {
     "data": {
      "text/plain": [
       "[<matplotlib.lines.Line2D at 0x282cab090>]"
      ]
     },
     "execution_count": 130,
     "metadata": {},
     "output_type": "execute_result"
    },
    {
     "data": {
      "image/png": "[encoded data removed]",
      "text/plain": [
       "<Figure size 640x480 with 1 Axes>"
      ]
     },
     "metadata": {},
     "output_type": "display_data"
    }
   ],
   "source": [
    "plt.plot(day_new,scaler.inverse_transform(df1[237:]))\n",
    "plt.plot(day_pred,scaler.inverse_transform(lst_output))\n",
    "\n"
   ]
  },
  {
   "cell_type": "code",
   "execution_count": 137,
   "id": "726bea9c",
   "metadata": {
    "scrolled": true
   },
   "outputs": [
    {
     "data": {
      "text/plain": [
       "[<matplotlib.lines.Line2D at 0x282bbae50>]"
      ]
     },
     "execution_count": 137,
     "metadata": {},
     "output_type": "execute_result"
    },
    {
     "data": {
      "image/png": "[encoded data removed]",
      "text/plain": [
       "<Figure size 1000x400 with 1 Axes>"
      ]
     },
     "metadata": {},
     "output_type": "display_data"
    }
   ],
   "source": [
    "plt.figure(figsize=(10, 4))\n",
    "df3=df1.tolist()\n",
    "df3.extend(lst_output)\n",
    "plt.plot(df3[93:])"
   ]
  },
  {
   "cell_type": "code",
   "execution_count": null,
   "id": "554990e4",
   "metadata": {},
   "outputs": [],
   "source": []
  }
 ],
 "metadata": {
  "kernelspec": {
   "display_name": "Python 3 (ipykernel)",
   "language": "python",
   "name": "python3"
  },
  "language_info": {
   "codemirror_mode": {
    "name": "ipython",
    "version": 3
   },
   "file_extension": ".py",
   "mimetype": "text/x-python",
   "name": "python",
   "nbconvert_exporter": "python",
   "pygments_lexer": "ipython3",
   "version": "3.11.3"
  }
 },
 "nbformat": 4,
 "nbformat_minor": 5
}
